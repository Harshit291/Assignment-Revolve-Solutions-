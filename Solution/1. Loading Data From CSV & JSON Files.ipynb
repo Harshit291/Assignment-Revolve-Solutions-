{
 "cells": [
  {
   "cell_type": "markdown",
   "metadata": {},
   "source": [
    "### Importing Libraries"
   ]
  },
  {
   "cell_type": "code",
   "execution_count": 1,
   "metadata": {},
   "outputs": [],
   "source": [
    "import os\n",
    "import pandas as pd"
   ]
  },
  {
   "cell_type": "markdown",
   "metadata": {},
   "source": [
    "### Checking Current Working Directory"
   ]
  },
  {
   "cell_type": "code",
   "execution_count": 2,
   "metadata": {},
   "outputs": [
    {
     "data": {
      "text/plain": [
       "'C:\\\\Users\\\\harsh\\\\Desktop\\\\python-assignment-level2-6ed53b4e828af18bc24b1770a3a3e3e70706e785\\\\Solution'"
      ]
     },
     "execution_count": 2,
     "metadata": {},
     "output_type": "execute_result"
    }
   ],
   "source": [
    "cwd = os.getcwd()\n",
    "cwd"
   ]
  },
  {
   "cell_type": "markdown",
   "metadata": {},
   "source": [
    "### Creating Base & Data Directory"
   ]
  },
  {
   "cell_type": "code",
   "execution_count": 3,
   "metadata": {},
   "outputs": [
    {
     "data": {
      "text/plain": [
       "'C:\\\\Users\\\\harsh\\\\Desktop\\\\python-assignment-level2-6ed53b4e828af18bc24b1770a3a3e3e70706e785\\\\input_data\\\\starter'"
      ]
     },
     "execution_count": 3,
     "metadata": {},
     "output_type": "execute_result"
    }
   ],
   "source": [
    "BASE_DIR  = os.path.dirname(cwd)\n",
    "DATA_DIR = os.path.join(BASE_DIR,'input_data\\\\starter')\n",
    "DATA_DIR"
   ]
  },
  {
   "cell_type": "code",
   "execution_count": 4,
   "metadata": {},
   "outputs": [
    {
     "data": {
      "text/plain": [
       "['customers.csv', 'products.csv', 'transactions']"
      ]
     },
     "execution_count": 4,
     "metadata": {},
     "output_type": "execute_result"
    }
   ],
   "source": [
    "os.listdir(DATA_DIR)"
   ]
  },
  {
   "cell_type": "markdown",
   "metadata": {},
   "source": [
    "### Loading Data From CSV Files"
   ]
  },
  {
   "cell_type": "code",
   "execution_count": 5,
   "metadata": {},
   "outputs": [
    {
     "data": {
      "text/html": [
       "<div>\n",
       "<style scoped>\n",
       "    .dataframe tbody tr th:only-of-type {\n",
       "        vertical-align: middle;\n",
       "    }\n",
       "\n",
       "    .dataframe tbody tr th {\n",
       "        vertical-align: top;\n",
       "    }\n",
       "\n",
       "    .dataframe thead th {\n",
       "        text-align: right;\n",
       "    }\n",
       "</style>\n",
       "<table border=\"1\" class=\"dataframe\">\n",
       "  <thead>\n",
       "    <tr style=\"text-align: right;\">\n",
       "      <th></th>\n",
       "      <th>customer_id</th>\n",
       "      <th>loyalty_score</th>\n",
       "    </tr>\n",
       "  </thead>\n",
       "  <tbody>\n",
       "    <tr>\n",
       "      <th>0</th>\n",
       "      <td>C1</td>\n",
       "      <td>7</td>\n",
       "    </tr>\n",
       "    <tr>\n",
       "      <th>1</th>\n",
       "      <td>C2</td>\n",
       "      <td>4</td>\n",
       "    </tr>\n",
       "    <tr>\n",
       "      <th>2</th>\n",
       "      <td>C3</td>\n",
       "      <td>8</td>\n",
       "    </tr>\n",
       "    <tr>\n",
       "      <th>3</th>\n",
       "      <td>C4</td>\n",
       "      <td>5</td>\n",
       "    </tr>\n",
       "    <tr>\n",
       "      <th>4</th>\n",
       "      <td>C5</td>\n",
       "      <td>7</td>\n",
       "    </tr>\n",
       "  </tbody>\n",
       "</table>\n",
       "</div>"
      ],
      "text/plain": [
       "  customer_id  loyalty_score\n",
       "0          C1              7\n",
       "1          C2              4\n",
       "2          C3              8\n",
       "3          C4              5\n",
       "4          C5              7"
      ]
     },
     "execution_count": 5,
     "metadata": {},
     "output_type": "execute_result"
    }
   ],
   "source": [
    "# Loading Data From Customers.csv\n",
    "\n",
    "my_data1 = os.path.join(DATA_DIR,'customers.csv')\n",
    "customers_data = pd.read_csv(my_data1)\n",
    "customers_data.head()"
   ]
  },
  {
   "cell_type": "code",
   "execution_count": 6,
   "metadata": {},
   "outputs": [
    {
     "data": {
      "text/html": [
       "<div>\n",
       "<style scoped>\n",
       "    .dataframe tbody tr th:only-of-type {\n",
       "        vertical-align: middle;\n",
       "    }\n",
       "\n",
       "    .dataframe tbody tr th {\n",
       "        vertical-align: top;\n",
       "    }\n",
       "\n",
       "    .dataframe thead th {\n",
       "        text-align: right;\n",
       "    }\n",
       "</style>\n",
       "<table border=\"1\" class=\"dataframe\">\n",
       "  <thead>\n",
       "    <tr style=\"text-align: right;\">\n",
       "      <th></th>\n",
       "      <th>product_id</th>\n",
       "      <th>product_description</th>\n",
       "      <th>product_category</th>\n",
       "    </tr>\n",
       "  </thead>\n",
       "  <tbody>\n",
       "    <tr>\n",
       "      <th>0</th>\n",
       "      <td>P01</td>\n",
       "      <td>detergent</td>\n",
       "      <td>house</td>\n",
       "    </tr>\n",
       "    <tr>\n",
       "      <th>1</th>\n",
       "      <td>P02</td>\n",
       "      <td>kitchen roll</td>\n",
       "      <td>house</td>\n",
       "    </tr>\n",
       "    <tr>\n",
       "      <th>2</th>\n",
       "      <td>P03</td>\n",
       "      <td>bin liners</td>\n",
       "      <td>house</td>\n",
       "    </tr>\n",
       "    <tr>\n",
       "      <th>3</th>\n",
       "      <td>P04</td>\n",
       "      <td>shower gel</td>\n",
       "      <td>house</td>\n",
       "    </tr>\n",
       "    <tr>\n",
       "      <th>4</th>\n",
       "      <td>P05</td>\n",
       "      <td>scented candles</td>\n",
       "      <td>house</td>\n",
       "    </tr>\n",
       "  </tbody>\n",
       "</table>\n",
       "</div>"
      ],
      "text/plain": [
       "  product_id product_description product_category\n",
       "0        P01           detergent            house\n",
       "1        P02        kitchen roll            house\n",
       "2        P03          bin liners            house\n",
       "3        P04          shower gel            house\n",
       "4        P05     scented candles            house"
      ]
     },
     "execution_count": 6,
     "metadata": {},
     "output_type": "execute_result"
    }
   ],
   "source": [
    "# Loading Data From Products.csv\n",
    "\n",
    "my_data2 = os.path.join(DATA_DIR,'products.csv')\n",
    "product_data = pd.read_csv(my_data2)\n",
    "product_data.head()"
   ]
  },
  {
   "cell_type": "code",
   "execution_count": 7,
   "metadata": {},
   "outputs": [
    {
     "data": {
      "text/html": [
       "<div>\n",
       "<style scoped>\n",
       "    .dataframe tbody tr th:only-of-type {\n",
       "        vertical-align: middle;\n",
       "    }\n",
       "\n",
       "    .dataframe tbody tr th {\n",
       "        vertical-align: top;\n",
       "    }\n",
       "\n",
       "    .dataframe thead th {\n",
       "        text-align: right;\n",
       "    }\n",
       "</style>\n",
       "<table border=\"1\" class=\"dataframe\">\n",
       "  <thead>\n",
       "    <tr style=\"text-align: right;\">\n",
       "      <th></th>\n",
       "      <th>customer_id</th>\n",
       "      <th>basket</th>\n",
       "      <th>date_of_purchase</th>\n",
       "    </tr>\n",
       "  </thead>\n",
       "  <tbody>\n",
       "    <tr>\n",
       "      <th>0</th>\n",
       "      <td>C3</td>\n",
       "      <td>[{'product_id': 'P26', 'price': 1545}, {'produ...</td>\n",
       "      <td>2018-12-01 06:26:00</td>\n",
       "    </tr>\n",
       "    <tr>\n",
       "      <th>1</th>\n",
       "      <td>C11</td>\n",
       "      <td>[{'product_id': 'P02', 'price': 1650}, {'produ...</td>\n",
       "      <td>2018-12-01 21:19:00</td>\n",
       "    </tr>\n",
       "    <tr>\n",
       "      <th>2</th>\n",
       "      <td>C21</td>\n",
       "      <td>[{'product_id': 'P05', 'price': 594}, {'produc...</td>\n",
       "      <td>2018-12-01 10:09:00</td>\n",
       "    </tr>\n",
       "    <tr>\n",
       "      <th>3</th>\n",
       "      <td>C31</td>\n",
       "      <td>[{'product_id': 'P34', 'price': 983}, {'produc...</td>\n",
       "      <td>2018-12-01 14:23:00</td>\n",
       "    </tr>\n",
       "    <tr>\n",
       "      <th>4</th>\n",
       "      <td>C37</td>\n",
       "      <td>[{'product_id': 'P63', 'price': 1559}, {'produ...</td>\n",
       "      <td>2018-12-01 07:08:00</td>\n",
       "    </tr>\n",
       "    <tr>\n",
       "      <th>...</th>\n",
       "      <td>...</td>\n",
       "      <td>...</td>\n",
       "      <td>...</td>\n",
       "    </tr>\n",
       "    <tr>\n",
       "      <th>21</th>\n",
       "      <td>C101</td>\n",
       "      <td>[{'product_id': 'P04', 'price': 607}, {'produc...</td>\n",
       "      <td>2019-03-01 21:15:00</td>\n",
       "    </tr>\n",
       "    <tr>\n",
       "      <th>22</th>\n",
       "      <td>C103</td>\n",
       "      <td>[{'product_id': 'P55', 'price': 1311}, {'produ...</td>\n",
       "      <td>2019-03-01 21:40:00</td>\n",
       "    </tr>\n",
       "    <tr>\n",
       "      <th>23</th>\n",
       "      <td>C123</td>\n",
       "      <td>[{'product_id': 'P01', 'price': 1334}, {'produ...</td>\n",
       "      <td>2019-03-01 13:05:00</td>\n",
       "    </tr>\n",
       "    <tr>\n",
       "      <th>24</th>\n",
       "      <td>C131</td>\n",
       "      <td>[{'product_id': 'P28', 'price': 842}, {'produc...</td>\n",
       "      <td>2019-03-01 09:07:00</td>\n",
       "    </tr>\n",
       "    <tr>\n",
       "      <th>25</th>\n",
       "      <td>C134</td>\n",
       "      <td>[{'product_id': 'P33', 'price': 314}, {'produc...</td>\n",
       "      <td>2019-03-01 14:14:00</td>\n",
       "    </tr>\n",
       "  </tbody>\n",
       "</table>\n",
       "<p>2061 rows × 3 columns</p>\n",
       "</div>"
      ],
      "text/plain": [
       "   customer_id                                             basket  \\\n",
       "0           C3  [{'product_id': 'P26', 'price': 1545}, {'produ...   \n",
       "1          C11  [{'product_id': 'P02', 'price': 1650}, {'produ...   \n",
       "2          C21  [{'product_id': 'P05', 'price': 594}, {'produc...   \n",
       "3          C31  [{'product_id': 'P34', 'price': 983}, {'produc...   \n",
       "4          C37  [{'product_id': 'P63', 'price': 1559}, {'produ...   \n",
       "..         ...                                                ...   \n",
       "21        C101  [{'product_id': 'P04', 'price': 607}, {'produc...   \n",
       "22        C103  [{'product_id': 'P55', 'price': 1311}, {'produ...   \n",
       "23        C123  [{'product_id': 'P01', 'price': 1334}, {'produ...   \n",
       "24        C131  [{'product_id': 'P28', 'price': 842}, {'produc...   \n",
       "25        C134  [{'product_id': 'P33', 'price': 314}, {'produc...   \n",
       "\n",
       "       date_of_purchase  \n",
       "0   2018-12-01 06:26:00  \n",
       "1   2018-12-01 21:19:00  \n",
       "2   2018-12-01 10:09:00  \n",
       "3   2018-12-01 14:23:00  \n",
       "4   2018-12-01 07:08:00  \n",
       "..                  ...  \n",
       "21  2019-03-01 21:15:00  \n",
       "22  2019-03-01 21:40:00  \n",
       "23  2019-03-01 13:05:00  \n",
       "24  2019-03-01 09:07:00  \n",
       "25  2019-03-01 14:14:00  \n",
       "\n",
       "[2061 rows x 3 columns]"
      ]
     },
     "execution_count": 7,
     "metadata": {},
     "output_type": "execute_result"
    }
   ],
   "source": [
    "import glob\n",
    "import pandas as pd\n",
    "\n",
    "my_data3 = os.path.join(DATA_DIR,'transactions')\n",
    "my_data3 += '\\d*\\*.json'\n",
    "li=[]\n",
    "\n",
    "def pd_read_pattern(pattern):\n",
    "    files = glob.glob(pattern)\n",
    "    transaction_data = pd.DataFrame()\n",
    "    \n",
    "    for f in files:\n",
    "        transaction_data=pd.read_json(f,lines=True)\n",
    "        li.append(transaction_data)\n",
    "        \n",
    "    return transaction_data.reset_index(drop=True)\n",
    "transaction_data = pd_read_pattern(my_data3)\n",
    "transaction_data=pd.concat(li)\n",
    "transaction_data\n"
   ]
  },
  {
   "cell_type": "markdown",
   "metadata": {},
   "source": [
    "# Concatinating All Dataframes"
   ]
  },
  {
   "cell_type": "code",
   "execution_count": 8,
   "metadata": {
    "scrolled": true
   },
   "outputs": [
    {
     "data": {
      "text/html": [
       "<div>\n",
       "<style scoped>\n",
       "    .dataframe tbody tr th:only-of-type {\n",
       "        vertical-align: middle;\n",
       "    }\n",
       "\n",
       "    .dataframe tbody tr th {\n",
       "        vertical-align: top;\n",
       "    }\n",
       "\n",
       "    .dataframe thead th {\n",
       "        text-align: right;\n",
       "    }\n",
       "</style>\n",
       "<table border=\"1\" class=\"dataframe\">\n",
       "  <thead>\n",
       "    <tr style=\"text-align: right;\">\n",
       "      <th></th>\n",
       "      <th>customer_id</th>\n",
       "      <th>loyalty_score</th>\n",
       "      <th>product_id</th>\n",
       "      <th>product_description</th>\n",
       "      <th>product_category</th>\n",
       "      <th>basket</th>\n",
       "      <th>date_of_purchase</th>\n",
       "    </tr>\n",
       "  </thead>\n",
       "  <tbody>\n",
       "    <tr>\n",
       "      <th>0</th>\n",
       "      <td>C1</td>\n",
       "      <td>7.0</td>\n",
       "      <td>NaN</td>\n",
       "      <td>NaN</td>\n",
       "      <td>NaN</td>\n",
       "      <td>NaN</td>\n",
       "      <td>NaN</td>\n",
       "    </tr>\n",
       "    <tr>\n",
       "      <th>1</th>\n",
       "      <td>C2</td>\n",
       "      <td>4.0</td>\n",
       "      <td>NaN</td>\n",
       "      <td>NaN</td>\n",
       "      <td>NaN</td>\n",
       "      <td>NaN</td>\n",
       "      <td>NaN</td>\n",
       "    </tr>\n",
       "    <tr>\n",
       "      <th>2</th>\n",
       "      <td>C3</td>\n",
       "      <td>8.0</td>\n",
       "      <td>NaN</td>\n",
       "      <td>NaN</td>\n",
       "      <td>NaN</td>\n",
       "      <td>NaN</td>\n",
       "      <td>NaN</td>\n",
       "    </tr>\n",
       "    <tr>\n",
       "      <th>3</th>\n",
       "      <td>C4</td>\n",
       "      <td>5.0</td>\n",
       "      <td>NaN</td>\n",
       "      <td>NaN</td>\n",
       "      <td>NaN</td>\n",
       "      <td>NaN</td>\n",
       "      <td>NaN</td>\n",
       "    </tr>\n",
       "    <tr>\n",
       "      <th>4</th>\n",
       "      <td>C5</td>\n",
       "      <td>7.0</td>\n",
       "      <td>NaN</td>\n",
       "      <td>NaN</td>\n",
       "      <td>NaN</td>\n",
       "      <td>NaN</td>\n",
       "      <td>NaN</td>\n",
       "    </tr>\n",
       "    <tr>\n",
       "      <th>...</th>\n",
       "      <td>...</td>\n",
       "      <td>...</td>\n",
       "      <td>...</td>\n",
       "      <td>...</td>\n",
       "      <td>...</td>\n",
       "      <td>...</td>\n",
       "      <td>...</td>\n",
       "    </tr>\n",
       "    <tr>\n",
       "      <th>21</th>\n",
       "      <td>C101</td>\n",
       "      <td>NaN</td>\n",
       "      <td>NaN</td>\n",
       "      <td>NaN</td>\n",
       "      <td>NaN</td>\n",
       "      <td>[{'product_id': 'P04', 'price': 607}, {'produc...</td>\n",
       "      <td>2019-03-01 21:15:00</td>\n",
       "    </tr>\n",
       "    <tr>\n",
       "      <th>22</th>\n",
       "      <td>C103</td>\n",
       "      <td>NaN</td>\n",
       "      <td>NaN</td>\n",
       "      <td>NaN</td>\n",
       "      <td>NaN</td>\n",
       "      <td>[{'product_id': 'P55', 'price': 1311}, {'produ...</td>\n",
       "      <td>2019-03-01 21:40:00</td>\n",
       "    </tr>\n",
       "    <tr>\n",
       "      <th>23</th>\n",
       "      <td>C123</td>\n",
       "      <td>NaN</td>\n",
       "      <td>NaN</td>\n",
       "      <td>NaN</td>\n",
       "      <td>NaN</td>\n",
       "      <td>[{'product_id': 'P01', 'price': 1334}, {'produ...</td>\n",
       "      <td>2019-03-01 13:05:00</td>\n",
       "    </tr>\n",
       "    <tr>\n",
       "      <th>24</th>\n",
       "      <td>C131</td>\n",
       "      <td>NaN</td>\n",
       "      <td>NaN</td>\n",
       "      <td>NaN</td>\n",
       "      <td>NaN</td>\n",
       "      <td>[{'product_id': 'P28', 'price': 842}, {'produc...</td>\n",
       "      <td>2019-03-01 09:07:00</td>\n",
       "    </tr>\n",
       "    <tr>\n",
       "      <th>25</th>\n",
       "      <td>C134</td>\n",
       "      <td>NaN</td>\n",
       "      <td>NaN</td>\n",
       "      <td>NaN</td>\n",
       "      <td>NaN</td>\n",
       "      <td>[{'product_id': 'P33', 'price': 314}, {'produc...</td>\n",
       "      <td>2019-03-01 14:14:00</td>\n",
       "    </tr>\n",
       "  </tbody>\n",
       "</table>\n",
       "<p>2262 rows × 7 columns</p>\n",
       "</div>"
      ],
      "text/plain": [
       "   customer_id  loyalty_score product_id product_description product_category  \\\n",
       "0           C1            7.0        NaN                 NaN              NaN   \n",
       "1           C2            4.0        NaN                 NaN              NaN   \n",
       "2           C3            8.0        NaN                 NaN              NaN   \n",
       "3           C4            5.0        NaN                 NaN              NaN   \n",
       "4           C5            7.0        NaN                 NaN              NaN   \n",
       "..         ...            ...        ...                 ...              ...   \n",
       "21        C101            NaN        NaN                 NaN              NaN   \n",
       "22        C103            NaN        NaN                 NaN              NaN   \n",
       "23        C123            NaN        NaN                 NaN              NaN   \n",
       "24        C131            NaN        NaN                 NaN              NaN   \n",
       "25        C134            NaN        NaN                 NaN              NaN   \n",
       "\n",
       "                                               basket     date_of_purchase  \n",
       "0                                                 NaN                  NaN  \n",
       "1                                                 NaN                  NaN  \n",
       "2                                                 NaN                  NaN  \n",
       "3                                                 NaN                  NaN  \n",
       "4                                                 NaN                  NaN  \n",
       "..                                                ...                  ...  \n",
       "21  [{'product_id': 'P04', 'price': 607}, {'produc...  2019-03-01 21:15:00  \n",
       "22  [{'product_id': 'P55', 'price': 1311}, {'produ...  2019-03-01 21:40:00  \n",
       "23  [{'product_id': 'P01', 'price': 1334}, {'produ...  2019-03-01 13:05:00  \n",
       "24  [{'product_id': 'P28', 'price': 842}, {'produc...  2019-03-01 09:07:00  \n",
       "25  [{'product_id': 'P33', 'price': 314}, {'produc...  2019-03-01 14:14:00  \n",
       "\n",
       "[2262 rows x 7 columns]"
      ]
     },
     "execution_count": 8,
     "metadata": {},
     "output_type": "execute_result"
    }
   ],
   "source": [
    "Final_df = pd.concat([customers_data,product_data,transaction_data])\n",
    "Final_df"
   ]
  },
  {
   "cell_type": "markdown",
   "metadata": {},
   "source": [
    "# Saving the final Dataframe into CSV"
   ]
  },
  {
   "cell_type": "code",
   "execution_count": 9,
   "metadata": {},
   "outputs": [],
   "source": [
    "Final_df.to_csv('./1.Full_Customer_Data.csv',index=False)"
   ]
  },
  {
   "cell_type": "code",
   "execution_count": null,
   "metadata": {},
   "outputs": [],
   "source": []
  }
 ],
 "metadata": {
  "kernelspec": {
   "display_name": "Python 3 (ipykernel)",
   "language": "python",
   "name": "python3"
  },
  "language_info": {
   "codemirror_mode": {
    "name": "ipython",
    "version": 3
   },
   "file_extension": ".py",
   "mimetype": "text/x-python",
   "name": "python",
   "nbconvert_exporter": "python",
   "pygments_lexer": "ipython3",
   "version": "3.10.5"
  }
 },
 "nbformat": 4,
 "nbformat_minor": 4
}

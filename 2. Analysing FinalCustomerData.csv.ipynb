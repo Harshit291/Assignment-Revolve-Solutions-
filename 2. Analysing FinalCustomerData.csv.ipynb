{
 "cells": [
  {
   "cell_type": "markdown",
   "metadata": {},
   "source": [
    "### Importing Libraries"
   ]
  },
  {
   "cell_type": "code",
   "execution_count": 1,
   "metadata": {},
   "outputs": [],
   "source": [
    "import os\n",
    "import pandas as pd"
   ]
  },
  {
   "cell_type": "markdown",
   "metadata": {},
   "source": [
    "### Checking Current Working Directory"
   ]
  },
  {
   "cell_type": "code",
   "execution_count": 2,
   "metadata": {},
   "outputs": [
    {
     "data": {
      "text/plain": [
       "'C:\\\\Users\\\\harsh\\\\Desktop\\\\python-assignment-level2-6ed53b4e828af18bc24b1770a3a3e3e70706e785'"
      ]
     },
     "execution_count": 2,
     "metadata": {},
     "output_type": "execute_result"
    }
   ],
   "source": [
    "cwd = os.getcwd()\n",
    "cwd"
   ]
  },
  {
   "cell_type": "markdown",
   "metadata": {},
   "source": [
    "### Reading the Data From FinalCustomersData CSV File"
   ]
  },
  {
   "cell_type": "code",
   "execution_count": 3,
   "metadata": {},
   "outputs": [],
   "source": [
    "final_df_analyse = pd.read_csv('./1.Full_Customer_Data.csv')"
   ]
  },
  {
   "cell_type": "code",
   "execution_count": 4,
   "metadata": {},
   "outputs": [
    {
     "data": {
      "text/html": [
       "<div>\n",
       "<style scoped>\n",
       "    .dataframe tbody tr th:only-of-type {\n",
       "        vertical-align: middle;\n",
       "    }\n",
       "\n",
       "    .dataframe tbody tr th {\n",
       "        vertical-align: top;\n",
       "    }\n",
       "\n",
       "    .dataframe thead th {\n",
       "        text-align: right;\n",
       "    }\n",
       "</style>\n",
       "<table border=\"1\" class=\"dataframe\">\n",
       "  <thead>\n",
       "    <tr style=\"text-align: right;\">\n",
       "      <th></th>\n",
       "      <th>customer_id</th>\n",
       "      <th>loyalty_score</th>\n",
       "      <th>product_id</th>\n",
       "      <th>product_description</th>\n",
       "      <th>product_category</th>\n",
       "      <th>basket</th>\n",
       "      <th>date_of_purchase</th>\n",
       "    </tr>\n",
       "  </thead>\n",
       "  <tbody>\n",
       "    <tr>\n",
       "      <th>0</th>\n",
       "      <td>C1</td>\n",
       "      <td>7.0</td>\n",
       "      <td>NaN</td>\n",
       "      <td>NaN</td>\n",
       "      <td>NaN</td>\n",
       "      <td>NaN</td>\n",
       "      <td>NaN</td>\n",
       "    </tr>\n",
       "    <tr>\n",
       "      <th>1</th>\n",
       "      <td>C2</td>\n",
       "      <td>4.0</td>\n",
       "      <td>NaN</td>\n",
       "      <td>NaN</td>\n",
       "      <td>NaN</td>\n",
       "      <td>NaN</td>\n",
       "      <td>NaN</td>\n",
       "    </tr>\n",
       "    <tr>\n",
       "      <th>2</th>\n",
       "      <td>C3</td>\n",
       "      <td>8.0</td>\n",
       "      <td>NaN</td>\n",
       "      <td>NaN</td>\n",
       "      <td>NaN</td>\n",
       "      <td>NaN</td>\n",
       "      <td>NaN</td>\n",
       "    </tr>\n",
       "    <tr>\n",
       "      <th>3</th>\n",
       "      <td>C4</td>\n",
       "      <td>5.0</td>\n",
       "      <td>NaN</td>\n",
       "      <td>NaN</td>\n",
       "      <td>NaN</td>\n",
       "      <td>NaN</td>\n",
       "      <td>NaN</td>\n",
       "    </tr>\n",
       "    <tr>\n",
       "      <th>4</th>\n",
       "      <td>C5</td>\n",
       "      <td>7.0</td>\n",
       "      <td>NaN</td>\n",
       "      <td>NaN</td>\n",
       "      <td>NaN</td>\n",
       "      <td>NaN</td>\n",
       "      <td>NaN</td>\n",
       "    </tr>\n",
       "  </tbody>\n",
       "</table>\n",
       "</div>"
      ],
      "text/plain": [
       "  customer_id  loyalty_score product_id product_description product_category  \\\n",
       "0          C1            7.0        NaN                 NaN              NaN   \n",
       "1          C2            4.0        NaN                 NaN              NaN   \n",
       "2          C3            8.0        NaN                 NaN              NaN   \n",
       "3          C4            5.0        NaN                 NaN              NaN   \n",
       "4          C5            7.0        NaN                 NaN              NaN   \n",
       "\n",
       "  basket date_of_purchase  \n",
       "0    NaN              NaN  \n",
       "1    NaN              NaN  \n",
       "2    NaN              NaN  \n",
       "3    NaN              NaN  \n",
       "4    NaN              NaN  "
      ]
     },
     "execution_count": 4,
     "metadata": {},
     "output_type": "execute_result"
    }
   ],
   "source": [
    "final_df_analyse.head()"
   ]
  },
  {
   "cell_type": "markdown",
   "metadata": {},
   "source": [
    "### Checking DataTypes"
   ]
  },
  {
   "cell_type": "code",
   "execution_count": 5,
   "metadata": {},
   "outputs": [
    {
     "data": {
      "text/plain": [
       "customer_id             object\n",
       "loyalty_score          float64\n",
       "product_id              object\n",
       "product_description     object\n",
       "product_category        object\n",
       "basket                  object\n",
       "date_of_purchase        object\n",
       "dtype: object"
      ]
     },
     "execution_count": 5,
     "metadata": {},
     "output_type": "execute_result"
    }
   ],
   "source": [
    "final_df_analyse.dtypes"
   ]
  },
  {
   "cell_type": "markdown",
   "metadata": {},
   "source": [
    "### Checking Null Values"
   ]
  },
  {
   "cell_type": "code",
   "execution_count": 6,
   "metadata": {},
   "outputs": [
    {
     "data": {
      "text/plain": [
       "customer_id            28.70\n",
       "loyalty_score          38.57\n",
       "product_id             71.30\n",
       "product_description    71.30\n",
       "product_category       71.30\n",
       "basket                 90.13\n",
       "date_of_purchase       90.13\n",
       "dtype: float64"
      ]
     },
     "execution_count": 6,
     "metadata": {},
     "output_type": "execute_result"
    }
   ],
   "source": [
    "round(100*(final_df_analyse.isnull().sum())/len(final_df_analyse), 2)"
   ]
  },
  {
   "cell_type": "markdown",
   "metadata": {},
   "source": [
    "### Treating NULL Values"
   ]
  },
  {
   "cell_type": "code",
   "execution_count": 7,
   "metadata": {
    "scrolled": true
   },
   "outputs": [
    {
     "data": {
      "text/html": [
       "<div>\n",
       "<style scoped>\n",
       "    .dataframe tbody tr th:only-of-type {\n",
       "        vertical-align: middle;\n",
       "    }\n",
       "\n",
       "    .dataframe tbody tr th {\n",
       "        vertical-align: top;\n",
       "    }\n",
       "\n",
       "    .dataframe thead th {\n",
       "        text-align: right;\n",
       "    }\n",
       "</style>\n",
       "<table border=\"1\" class=\"dataframe\">\n",
       "  <thead>\n",
       "    <tr style=\"text-align: right;\">\n",
       "      <th></th>\n",
       "      <th>customer_id</th>\n",
       "      <th>loyalty_score</th>\n",
       "      <th>product_id</th>\n",
       "      <th>product_description</th>\n",
       "      <th>product_category</th>\n",
       "      <th>basket</th>\n",
       "      <th>date_of_purchase</th>\n",
       "    </tr>\n",
       "  </thead>\n",
       "  <tbody>\n",
       "    <tr>\n",
       "      <th>0</th>\n",
       "      <td>C1</td>\n",
       "      <td>7.0</td>\n",
       "      <td>P01</td>\n",
       "      <td>detergent</td>\n",
       "      <td>food</td>\n",
       "      <td>[{'product_id': 'P26', 'price': 1545}, {'produ...</td>\n",
       "      <td>2018-12-01 06:26:00</td>\n",
       "    </tr>\n",
       "    <tr>\n",
       "      <th>1</th>\n",
       "      <td>C2</td>\n",
       "      <td>4.0</td>\n",
       "      <td>P01</td>\n",
       "      <td>detergent</td>\n",
       "      <td>food</td>\n",
       "      <td>[{'product_id': 'P26', 'price': 1545}, {'produ...</td>\n",
       "      <td>2018-12-01 06:26:00</td>\n",
       "    </tr>\n",
       "    <tr>\n",
       "      <th>2</th>\n",
       "      <td>C3</td>\n",
       "      <td>8.0</td>\n",
       "      <td>P01</td>\n",
       "      <td>detergent</td>\n",
       "      <td>food</td>\n",
       "      <td>[{'product_id': 'P26', 'price': 1545}, {'produ...</td>\n",
       "      <td>2018-12-01 06:26:00</td>\n",
       "    </tr>\n",
       "    <tr>\n",
       "      <th>3</th>\n",
       "      <td>C4</td>\n",
       "      <td>5.0</td>\n",
       "      <td>P01</td>\n",
       "      <td>detergent</td>\n",
       "      <td>food</td>\n",
       "      <td>[{'product_id': 'P26', 'price': 1545}, {'produ...</td>\n",
       "      <td>2018-12-01 06:26:00</td>\n",
       "    </tr>\n",
       "    <tr>\n",
       "      <th>4</th>\n",
       "      <td>C5</td>\n",
       "      <td>7.0</td>\n",
       "      <td>P01</td>\n",
       "      <td>detergent</td>\n",
       "      <td>food</td>\n",
       "      <td>[{'product_id': 'P26', 'price': 1545}, {'produ...</td>\n",
       "      <td>2018-12-01 06:26:00</td>\n",
       "    </tr>\n",
       "    <tr>\n",
       "      <th>...</th>\n",
       "      <td>...</td>\n",
       "      <td>...</td>\n",
       "      <td>...</td>\n",
       "      <td>...</td>\n",
       "      <td>...</td>\n",
       "      <td>...</td>\n",
       "      <td>...</td>\n",
       "    </tr>\n",
       "    <tr>\n",
       "      <th>218</th>\n",
       "      <td>C107</td>\n",
       "      <td>7.0</td>\n",
       "      <td>P01</td>\n",
       "      <td>detergent</td>\n",
       "      <td>food</td>\n",
       "      <td>[{'product_id': 'P61', 'price': 3}]</td>\n",
       "      <td>2018-12-01 06:42:00</td>\n",
       "    </tr>\n",
       "    <tr>\n",
       "      <th>219</th>\n",
       "      <td>C125</td>\n",
       "      <td>7.0</td>\n",
       "      <td>P01</td>\n",
       "      <td>detergent</td>\n",
       "      <td>food</td>\n",
       "      <td>[{'product_id': 'P09', 'price': 1330}]</td>\n",
       "      <td>2018-12-01 19:45:00</td>\n",
       "    </tr>\n",
       "    <tr>\n",
       "      <th>220</th>\n",
       "      <td>C129</td>\n",
       "      <td>7.0</td>\n",
       "      <td>P01</td>\n",
       "      <td>detergent</td>\n",
       "      <td>food</td>\n",
       "      <td>[{'product_id': 'P09', 'price': 1360}, {'produ...</td>\n",
       "      <td>2018-12-01 10:38:00</td>\n",
       "    </tr>\n",
       "    <tr>\n",
       "      <th>221</th>\n",
       "      <td>C130</td>\n",
       "      <td>7.0</td>\n",
       "      <td>P01</td>\n",
       "      <td>detergent</td>\n",
       "      <td>food</td>\n",
       "      <td>[{'product_id': 'P04', 'price': 515}, {'produc...</td>\n",
       "      <td>2018-12-01 20:54:00</td>\n",
       "    </tr>\n",
       "    <tr>\n",
       "      <th>222</th>\n",
       "      <td>C135</td>\n",
       "      <td>7.0</td>\n",
       "      <td>P01</td>\n",
       "      <td>detergent</td>\n",
       "      <td>food</td>\n",
       "      <td>[{'product_id': 'P46', 'price': 1158}, {'produ...</td>\n",
       "      <td>2018-12-01 22:49:00</td>\n",
       "    </tr>\n",
       "  </tbody>\n",
       "</table>\n",
       "<p>223 rows × 7 columns</p>\n",
       "</div>"
      ],
      "text/plain": [
       "    customer_id  loyalty_score product_id product_description  \\\n",
       "0            C1            7.0        P01           detergent   \n",
       "1            C2            4.0        P01           detergent   \n",
       "2            C3            8.0        P01           detergent   \n",
       "3            C4            5.0        P01           detergent   \n",
       "4            C5            7.0        P01           detergent   \n",
       "..          ...            ...        ...                 ...   \n",
       "218        C107            7.0        P01           detergent   \n",
       "219        C125            7.0        P01           detergent   \n",
       "220        C129            7.0        P01           detergent   \n",
       "221        C130            7.0        P01           detergent   \n",
       "222        C135            7.0        P01           detergent   \n",
       "\n",
       "    product_category                                             basket  \\\n",
       "0               food  [{'product_id': 'P26', 'price': 1545}, {'produ...   \n",
       "1               food  [{'product_id': 'P26', 'price': 1545}, {'produ...   \n",
       "2               food  [{'product_id': 'P26', 'price': 1545}, {'produ...   \n",
       "3               food  [{'product_id': 'P26', 'price': 1545}, {'produ...   \n",
       "4               food  [{'product_id': 'P26', 'price': 1545}, {'produ...   \n",
       "..               ...                                                ...   \n",
       "218             food                [{'product_id': 'P61', 'price': 3}]   \n",
       "219             food             [{'product_id': 'P09', 'price': 1330}]   \n",
       "220             food  [{'product_id': 'P09', 'price': 1360}, {'produ...   \n",
       "221             food  [{'product_id': 'P04', 'price': 515}, {'produc...   \n",
       "222             food  [{'product_id': 'P46', 'price': 1158}, {'produ...   \n",
       "\n",
       "        date_of_purchase  \n",
       "0    2018-12-01 06:26:00  \n",
       "1    2018-12-01 06:26:00  \n",
       "2    2018-12-01 06:26:00  \n",
       "3    2018-12-01 06:26:00  \n",
       "4    2018-12-01 06:26:00  \n",
       "..                   ...  \n",
       "218  2018-12-01 06:42:00  \n",
       "219  2018-12-01 19:45:00  \n",
       "220  2018-12-01 10:38:00  \n",
       "221  2018-12-01 20:54:00  \n",
       "222  2018-12-01 22:49:00  \n",
       "\n",
       "[223 rows x 7 columns]"
      ]
     },
     "execution_count": 7,
     "metadata": {},
     "output_type": "execute_result"
    }
   ],
   "source": [
    "# Filling Mode of the column in place of NA\n",
    "final_df_analyse.customer_id = final_df_analyse.customer_id.fillna(final_df_analyse['customer_id'].value_counts().idxmax())\n",
    "final_df_analyse.loyalty_score = final_df_analyse.loyalty_score.fillna(final_df_analyse['loyalty_score'].value_counts().idxmax())\n",
    "final_df_analyse.product_id = final_df_analyse.product_id.fillna(final_df_analyse['product_id'].value_counts().idxmax())\n",
    "final_df_analyse.product_description = final_df_analyse.product_description.fillna(final_df_analyse['product_description'].value_counts().idxmax())\n",
    "final_df_analyse.product_category = final_df_analyse.product_category.fillna(final_df_analyse['product_category'].value_counts().idxmax())\n",
    "final_df_analyse.date_of_purchase = final_df_analyse.date_of_purchase.fillna(final_df_analyse['date_of_purchase'].value_counts().idxmax())\n",
    "final_df_analyse.basket = final_df_analyse.basket.fillna(final_df_analyse['basket'].value_counts().idxmax())\n",
    "\n",
    "final_df_analyse"
   ]
  },
  {
   "cell_type": "markdown",
   "metadata": {},
   "source": [
    "### Checking Null Values Again"
   ]
  },
  {
   "cell_type": "code",
   "execution_count": 8,
   "metadata": {},
   "outputs": [
    {
     "data": {
      "text/plain": [
       "customer_id            0.0\n",
       "loyalty_score          0.0\n",
       "product_id             0.0\n",
       "product_description    0.0\n",
       "product_category       0.0\n",
       "basket                 0.0\n",
       "date_of_purchase       0.0\n",
       "dtype: float64"
      ]
     },
     "execution_count": 8,
     "metadata": {},
     "output_type": "execute_result"
    }
   ],
   "source": [
    "round(100*(final_df_analyse.isnull().sum())/len(final_df_analyse), 2)"
   ]
  },
  {
   "cell_type": "markdown",
   "metadata": {},
   "source": [
    "### Creating Final Customer Data"
   ]
  },
  {
   "cell_type": "code",
   "execution_count": 9,
   "metadata": {},
   "outputs": [
    {
     "data": {
      "text/html": [
       "<div>\n",
       "<style scoped>\n",
       "    .dataframe tbody tr th:only-of-type {\n",
       "        vertical-align: middle;\n",
       "    }\n",
       "\n",
       "    .dataframe tbody tr th {\n",
       "        vertical-align: top;\n",
       "    }\n",
       "\n",
       "    .dataframe thead th {\n",
       "        text-align: right;\n",
       "    }\n",
       "</style>\n",
       "<table border=\"1\" class=\"dataframe\">\n",
       "  <thead>\n",
       "    <tr style=\"text-align: right;\">\n",
       "      <th></th>\n",
       "      <th>customer_id</th>\n",
       "      <th>product_id</th>\n",
       "      <th>product_category</th>\n",
       "      <th>purchase_count</th>\n",
       "    </tr>\n",
       "  </thead>\n",
       "  <tbody>\n",
       "    <tr>\n",
       "      <th>0</th>\n",
       "      <td>C1</td>\n",
       "      <td>P01</td>\n",
       "      <td>food</td>\n",
       "      <td>1</td>\n",
       "    </tr>\n",
       "    <tr>\n",
       "      <th>1</th>\n",
       "      <td>C10</td>\n",
       "      <td>P01</td>\n",
       "      <td>food</td>\n",
       "      <td>1</td>\n",
       "    </tr>\n",
       "    <tr>\n",
       "      <th>2</th>\n",
       "      <td>C100</td>\n",
       "      <td>P01</td>\n",
       "      <td>food</td>\n",
       "      <td>1</td>\n",
       "    </tr>\n",
       "    <tr>\n",
       "      <th>3</th>\n",
       "      <td>C101</td>\n",
       "      <td>P01</td>\n",
       "      <td>food</td>\n",
       "      <td>1</td>\n",
       "    </tr>\n",
       "    <tr>\n",
       "      <th>4</th>\n",
       "      <td>C102</td>\n",
       "      <td>P01</td>\n",
       "      <td>food</td>\n",
       "      <td>2</td>\n",
       "    </tr>\n",
       "    <tr>\n",
       "      <th>...</th>\n",
       "      <td>...</td>\n",
       "      <td>...</td>\n",
       "      <td>...</td>\n",
       "      <td>...</td>\n",
       "    </tr>\n",
       "    <tr>\n",
       "      <th>196</th>\n",
       "      <td>C95</td>\n",
       "      <td>P01</td>\n",
       "      <td>food</td>\n",
       "      <td>2</td>\n",
       "    </tr>\n",
       "    <tr>\n",
       "      <th>197</th>\n",
       "      <td>C96</td>\n",
       "      <td>P01</td>\n",
       "      <td>food</td>\n",
       "      <td>2</td>\n",
       "    </tr>\n",
       "    <tr>\n",
       "      <th>198</th>\n",
       "      <td>C97</td>\n",
       "      <td>P01</td>\n",
       "      <td>food</td>\n",
       "      <td>2</td>\n",
       "    </tr>\n",
       "    <tr>\n",
       "      <th>199</th>\n",
       "      <td>C98</td>\n",
       "      <td>P01</td>\n",
       "      <td>food</td>\n",
       "      <td>2</td>\n",
       "    </tr>\n",
       "    <tr>\n",
       "      <th>200</th>\n",
       "      <td>C99</td>\n",
       "      <td>P01</td>\n",
       "      <td>food</td>\n",
       "      <td>1</td>\n",
       "    </tr>\n",
       "  </tbody>\n",
       "</table>\n",
       "<p>201 rows × 4 columns</p>\n",
       "</div>"
      ],
      "text/plain": [
       "    customer_id product_id product_category  purchase_count\n",
       "0            C1        P01             food               1\n",
       "1           C10        P01             food               1\n",
       "2          C100        P01             food               1\n",
       "3          C101        P01             food               1\n",
       "4          C102        P01             food               2\n",
       "..          ...        ...              ...             ...\n",
       "196         C95        P01             food               2\n",
       "197         C96        P01             food               2\n",
       "198         C97        P01             food               2\n",
       "199         C98        P01             food               2\n",
       "200         C99        P01             food               1\n",
       "\n",
       "[201 rows x 4 columns]"
      ]
     },
     "execution_count": 9,
     "metadata": {},
     "output_type": "execute_result"
    }
   ],
   "source": [
    "final_customer_data = final_df_analyse.groupby(['customer_id','product_id','product_category']).size().reset_index(name='purchase_count')\n",
    "final_customer_data"
   ]
  },
  {
   "cell_type": "code",
   "execution_count": 10,
   "metadata": {},
   "outputs": [],
   "source": [
    "final_customer_data['loyalty_score'] = final_df_analyse['loyalty_score']"
   ]
  },
  {
   "cell_type": "code",
   "execution_count": 11,
   "metadata": {},
   "outputs": [
    {
     "data": {
      "text/html": [
       "<div>\n",
       "<style scoped>\n",
       "    .dataframe tbody tr th:only-of-type {\n",
       "        vertical-align: middle;\n",
       "    }\n",
       "\n",
       "    .dataframe tbody tr th {\n",
       "        vertical-align: top;\n",
       "    }\n",
       "\n",
       "    .dataframe thead th {\n",
       "        text-align: right;\n",
       "    }\n",
       "</style>\n",
       "<table border=\"1\" class=\"dataframe\">\n",
       "  <thead>\n",
       "    <tr style=\"text-align: right;\">\n",
       "      <th></th>\n",
       "      <th>customer_id</th>\n",
       "      <th>product_id</th>\n",
       "      <th>product_category</th>\n",
       "      <th>purchase_count</th>\n",
       "      <th>loyalty_score</th>\n",
       "    </tr>\n",
       "  </thead>\n",
       "  <tbody>\n",
       "    <tr>\n",
       "      <th>0</th>\n",
       "      <td>C1</td>\n",
       "      <td>P01</td>\n",
       "      <td>food</td>\n",
       "      <td>1</td>\n",
       "      <td>7.0</td>\n",
       "    </tr>\n",
       "    <tr>\n",
       "      <th>1</th>\n",
       "      <td>C10</td>\n",
       "      <td>P01</td>\n",
       "      <td>food</td>\n",
       "      <td>1</td>\n",
       "      <td>4.0</td>\n",
       "    </tr>\n",
       "    <tr>\n",
       "      <th>2</th>\n",
       "      <td>C100</td>\n",
       "      <td>P01</td>\n",
       "      <td>food</td>\n",
       "      <td>1</td>\n",
       "      <td>8.0</td>\n",
       "    </tr>\n",
       "    <tr>\n",
       "      <th>3</th>\n",
       "      <td>C101</td>\n",
       "      <td>P01</td>\n",
       "      <td>food</td>\n",
       "      <td>1</td>\n",
       "      <td>5.0</td>\n",
       "    </tr>\n",
       "    <tr>\n",
       "      <th>4</th>\n",
       "      <td>C102</td>\n",
       "      <td>P01</td>\n",
       "      <td>food</td>\n",
       "      <td>2</td>\n",
       "      <td>7.0</td>\n",
       "    </tr>\n",
       "  </tbody>\n",
       "</table>\n",
       "</div>"
      ],
      "text/plain": [
       "  customer_id product_id product_category  purchase_count  loyalty_score\n",
       "0          C1        P01             food               1            7.0\n",
       "1         C10        P01             food               1            4.0\n",
       "2        C100        P01             food               1            8.0\n",
       "3        C101        P01             food               1            5.0\n",
       "4        C102        P01             food               2            7.0"
      ]
     },
     "execution_count": 11,
     "metadata": {},
     "output_type": "execute_result"
    }
   ],
   "source": [
    "final_customer_data.head()"
   ]
  },
  {
   "cell_type": "markdown",
   "metadata": {},
   "source": [
    "### Converting DataFrame to CSV File`"
   ]
  },
  {
   "cell_type": "code",
   "execution_count": 12,
   "metadata": {},
   "outputs": [],
   "source": [
    "final_customer_data.to_csv('./2.Final_Customer_Data.csv')"
   ]
  },
  {
   "cell_type": "code",
   "execution_count": null,
   "metadata": {},
   "outputs": [],
   "source": []
  }
 ],
 "metadata": {
  "kernelspec": {
   "display_name": "Python 3 (ipykernel)",
   "language": "python",
   "name": "python3"
  },
  "language_info": {
   "codemirror_mode": {
    "name": "ipython",
    "version": 3
   },
   "file_extension": ".py",
   "mimetype": "text/x-python",
   "name": "python",
   "nbconvert_exporter": "python",
   "pygments_lexer": "ipython3",
   "version": "3.10.5"
  }
 },
 "nbformat": 4,
 "nbformat_minor": 4
}
